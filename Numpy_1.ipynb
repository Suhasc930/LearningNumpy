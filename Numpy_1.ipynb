{
 "cells": [
  {
   "cell_type": "code",
   "execution_count": 4,
   "id": "06abfdf5-fa34-4d1d-994e-3deb07bae1fc",
   "metadata": {},
   "outputs": [],
   "source": [
    "import numpy as np"
   ]
  },
  {
   "cell_type": "code",
   "execution_count": 5,
   "id": "1def8464-c73e-4901-bd05-025f14828d3f",
   "metadata": {},
   "outputs": [],
   "source": [
    "#Creating a matrix with chaining functions\n",
    "a = np.arange(1,10).reshape((3,3))\n",
    "#reshape converts the array to m*n matrix as required and arange function works similar to the range function as in normal python"
   ]
  },
  {
   "cell_type": "code",
   "execution_count": 6,
   "id": "2e9f68a1-3791-454f-9792-f63e64ad5424",
   "metadata": {},
   "outputs": [
    {
     "name": "stdout",
     "output_type": "stream",
     "text": [
      "[[1 2 3]\n",
      " [4 5 6]\n",
      " [7 8 9]]\n"
     ]
    }
   ],
   "source": [
    "print(a)"
   ]
  },
  {
   "cell_type": "code",
   "execution_count": 4,
   "id": "e3f3c1cf-dfab-421f-b874-0682c06ba5c5",
   "metadata": {},
   "outputs": [
    {
     "name": "stdout",
     "output_type": "stream",
     "text": [
      "[ 1.          1.47368421  1.94736842  2.42105263  2.89473684  3.36842105\n",
      "  3.84210526  4.31578947  4.78947368  5.26315789  5.73684211  6.21052632\n",
      "  6.68421053  7.15789474  7.63157895  8.10526316  8.57894737  9.05263158\n",
      "  9.52631579 10.        ]\n"
     ]
    }
   ],
   "source": [
    "#linspace function divides the elements between 2 numbers with equal jumps. Note that unlike range end number is inclusive\n",
    "b = np.linspace(1,10,20)\n",
    "print(b)"
   ]
  },
  {
   "cell_type": "code",
   "execution_count": 5,
   "id": "272bc61e-eced-4c39-8874-0b31ed429032",
   "metadata": {},
   "outputs": [],
   "source": [
    "#In the above piece of code if you note 1 and 10 are inclusive and there are 20 values generated with equal intervals"
   ]
  },
  {
   "cell_type": "code",
   "execution_count": 8,
   "id": "cce52f05-1012-41de-9af1-10b7a10c5d35",
   "metadata": {},
   "outputs": [],
   "source": [
    "#Transposing a matrix, simply use desiredmatrix.T for the same"
   ]
  },
  {
   "cell_type": "code",
   "execution_count": 7,
   "id": "6b1ef41d-7425-4653-8fdf-3c9ca273518a",
   "metadata": {},
   "outputs": [
    {
     "name": "stdout",
     "output_type": "stream",
     "text": [
      "[[1 4 7]\n",
      " [2 5 8]\n",
      " [3 6 9]]\n"
     ]
    }
   ],
   "source": [
    "print(a.T)"
   ]
  },
  {
   "cell_type": "code",
   "execution_count": 8,
   "id": "484d2f79-1fe0-49a6-8922-e75a9befd5a3",
   "metadata": {},
   "outputs": [],
   "source": [
    "#flatten() flattens the matrix to 1D list\n",
    "b = a.T.flatten()"
   ]
  },
  {
   "cell_type": "code",
   "execution_count": 9,
   "id": "b4fe1b86-823f-4254-9533-b0ebfae22e76",
   "metadata": {},
   "outputs": [
    {
     "name": "stdout",
     "output_type": "stream",
     "text": [
      "[1 4 7 2 5 8 3 6 9]\n"
     ]
    }
   ],
   "source": [
    "print(b)"
   ]
  },
  {
   "cell_type": "code",
   "execution_count": 10,
   "id": "838f9d14-22fb-4bb3-8105-beb63641d249",
   "metadata": {},
   "outputs": [
    {
     "data": {
      "text/plain": [
       "2"
      ]
     },
     "execution_count": 10,
     "metadata": {},
     "output_type": "execute_result"
    }
   ],
   "source": [
    "a.ndim"
   ]
  },
  {
   "cell_type": "code",
   "execution_count": 13,
   "id": "8605456c-95d5-4c06-902f-9064e9f8084c",
   "metadata": {},
   "outputs": [],
   "source": [
    "# ndim gives the dimension of the array, where as .shape gives the number of rows and columns of the array"
   ]
  },
  {
   "cell_type": "code",
   "execution_count": 14,
   "id": "5af2479d-912c-499c-938c-0972c30da143",
   "metadata": {},
   "outputs": [
    {
     "data": {
      "text/plain": [
       "(3, 3)"
      ]
     },
     "execution_count": 14,
     "metadata": {},
     "output_type": "execute_result"
    }
   ],
   "source": [
    "a.shape"
   ]
  },
  {
   "cell_type": "code",
   "execution_count": 15,
   "id": "717d5c28-0eac-47c4-9041-dbad5ad1b9cf",
   "metadata": {},
   "outputs": [],
   "source": [
    "#2D array slicing"
   ]
  },
  {
   "cell_type": "code",
   "execution_count": 16,
   "id": "6d578d44-cc30-4f47-8a5a-9100b5a3687f",
   "metadata": {},
   "outputs": [],
   "source": [
    "#If you want to access a specifc row or column, it means that you will have to access all the elements in that specific column and row respectively"
   ]
  },
  {
   "cell_type": "code",
   "execution_count": 17,
   "id": "adeff858-2fcd-4b53-9ee0-6f502894e877",
   "metadata": {},
   "outputs": [],
   "source": [
    "#Let's say you would want to access 2nd row (as per 0 indexing it is 1st)"
   ]
  },
  {
   "cell_type": "code",
   "execution_count": 19,
   "id": "678df72c-bbbc-4c8d-89a8-161fecbef878",
   "metadata": {},
   "outputs": [
    {
     "data": {
      "text/plain": [
       "array([4, 5, 6])"
      ]
     },
     "execution_count": 19,
     "metadata": {},
     "output_type": "execute_result"
    }
   ],
   "source": [
    "a[1,:]"
   ]
  },
  {
   "cell_type": "code",
   "execution_count": 20,
   "id": "1b685748-aad1-448f-abd7-d9745525b16d",
   "metadata": {},
   "outputs": [],
   "source": [
    "#Similarly if you want access 2nd column"
   ]
  },
  {
   "cell_type": "code",
   "execution_count": 23,
   "id": "be40fd88-355c-46f5-8976-38dabe7c02f3",
   "metadata": {},
   "outputs": [
    {
     "data": {
      "text/plain": [
       "array([2, 5, 8])"
      ]
     },
     "execution_count": 23,
     "metadata": {},
     "output_type": "execute_result"
    }
   ],
   "source": [
    "a[:,1]"
   ]
  },
  {
   "cell_type": "code",
   "execution_count": 24,
   "id": "90fd5f34-8ff9-4482-aa8c-d83faddf1c57",
   "metadata": {},
   "outputs": [],
   "source": [
    "#Let's say if you want to access a specific subset of the Matrix (elements: 2,3,5,6)"
   ]
  },
  {
   "cell_type": "code",
   "execution_count": 25,
   "id": "943591ca-5c47-42fc-b2bd-c18ee5c1278a",
   "metadata": {},
   "outputs": [
    {
     "data": {
      "text/plain": [
       "array([[1, 2, 3],\n",
       "       [4, 5, 6],\n",
       "       [7, 8, 9]])"
      ]
     },
     "execution_count": 25,
     "metadata": {},
     "output_type": "execute_result"
    }
   ],
   "source": [
    "a"
   ]
  },
  {
   "cell_type": "code",
   "execution_count": 27,
   "id": "ed231ad6-c847-4b89-a173-ff6673df95df",
   "metadata": {},
   "outputs": [
    {
     "data": {
      "text/plain": [
       "array([[2, 3],\n",
       "       [5, 6]])"
      ]
     },
     "execution_count": 27,
     "metadata": {},
     "output_type": "execute_result"
    }
   ],
   "source": [
    "a[:2,1:]"
   ]
  },
  {
   "cell_type": "code",
   "execution_count": 28,
   "id": "64b49f9e-f5e3-4b53-855d-ebfa2a990b09",
   "metadata": {},
   "outputs": [],
   "source": [
    "#In the above example we wanted to access first 2 rows but only 2nd and 3rd column"
   ]
  },
  {
   "cell_type": "code",
   "execution_count": 29,
   "id": "89f60135-4188-43f6-9078-3c0b1d70290b",
   "metadata": {},
   "outputs": [],
   "source": [
    "#If we want to access elements(1,3,7,9)"
   ]
  },
  {
   "cell_type": "code",
   "execution_count": 30,
   "id": "a48e78e1-3d0c-4238-822c-a7e0927f2af0",
   "metadata": {},
   "outputs": [
    {
     "data": {
      "text/plain": [
       "array([[1, 3],\n",
       "       [7, 9]])"
      ]
     },
     "execution_count": 30,
     "metadata": {},
     "output_type": "execute_result"
    }
   ],
   "source": [
    "a[::2,::2]"
   ]
  },
  {
   "cell_type": "code",
   "execution_count": 31,
   "id": "cacb2dbe-7db5-44e5-9060-b5221b1e5cb7",
   "metadata": {},
   "outputs": [],
   "source": [
    "#Here we had to give a \"step\" or \"jump\" argument as well which \"2\" in this case"
   ]
  },
  {
   "cell_type": "code",
   "execution_count": null,
   "id": "bffb8273-c8b7-4545-9baf-1f9586631552",
   "metadata": {},
   "outputs": [],
   "source": []
  }
 ],
 "metadata": {
  "kernelspec": {
   "display_name": "Python 3 (ipykernel)",
   "language": "python",
   "name": "python3"
  },
  "language_info": {
   "codemirror_mode": {
    "name": "ipython",
    "version": 3
   },
   "file_extension": ".py",
   "mimetype": "text/x-python",
   "name": "python",
   "nbconvert_exporter": "python",
   "pygments_lexer": "ipython3",
   "version": "3.9.12"
  }
 },
 "nbformat": 4,
 "nbformat_minor": 5
}
